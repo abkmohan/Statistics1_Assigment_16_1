{
 "cells": [
  {
   "cell_type": "code",
   "execution_count": 5,
   "metadata": {},
   "outputs": [
    {
     "name": "stdout",
     "output_type": "stream",
     "text": [
      "Rents Standard Deviation:  368\n"
     ]
    }
   ],
   "source": [
    "#Course: Data Science Masters\n",
    "#Title: Assignment 16.1            \n",
    "#Tool: Jupyter notebook \n",
    "#Author: Krishna A\n",
    "#Date: 18-05-2018 (DD/MM/YYYY)\n",
    "\n",
    "#Problem Statement \n",
    "#   You survey households in your area to find the average rent they are paying. Find the\n",
    "#   standard deviation from the following data:\n",
    "#           $1550, $1700, $900, $850, $1000, $950.\n",
    "\n",
    "import statistics\n",
    "\n",
    "arr_rent = [1550, 1700,900,850,1000,950]\n",
    "\n",
    "fRent_Std = statistics.stdev(arr_rent)\n",
    "\n",
    "print(\"Rents Standard Deviation: \", format(fRent_Std, '.0f'))"
   ]
  },
  {
   "cell_type": "code",
   "execution_count": null,
   "metadata": {
    "collapsed": true
   },
   "outputs": [],
   "source": []
  }
 ],
 "metadata": {
  "kernelspec": {
   "display_name": "Python 3",
   "language": "python",
   "name": "python3"
  },
  "language_info": {
   "codemirror_mode": {
    "name": "ipython",
    "version": 3
   },
   "file_extension": ".py",
   "mimetype": "text/x-python",
   "name": "python",
   "nbconvert_exporter": "python",
   "pygments_lexer": "ipython3",
   "version": "3.6.3"
  }
 },
 "nbformat": 4,
 "nbformat_minor": 2
}
